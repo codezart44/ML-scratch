{
 "cells": [
  {
   "cell_type": "markdown",
   "metadata": {},
   "source": [
    "## LaTeX\n",
    "___\n",
    "La - Lamport (Leslie Lamport) <br>\n",
    "TeX - the underlying language for mathematical notations and equations\n",
    "\n",
    "$ inline $\n",
    "\n",
    "$$ multi line $$\n",
    "\n",
    "//note _some time in the future I might go back and refine the note book notes to have LaTeX notations_"
   ]
  },
  {
   "cell_type": "markdown",
   "metadata": {},
   "source": [
    "### Greek symbols\n",
    "___\n",
    "\n",
    "$$\n",
    "\n",
    "\\Alpha \\alpha \\\\ \\Beta \\beta \\\\ \\Gamma \\gamma \\\\ \\Delta \\delta \\\\ \\Epsilon \\epsilon \n",
    "\n",
    "$$"
   ]
  },
  {
   "cell_type": "markdown",
   "metadata": {},
   "source": [
    "### Operators\n",
    "___\n",
    "$$\n",
    "\\sum_{n=1}^{10} n^2 \\\\\n",
    "\\int_{0}^{\\pi} \\sin(x) dx\n",
    "$$"
   ]
  },
  {
   "cell_type": "markdown",
   "metadata": {},
   "source": [
    "### Matricies\n",
    "___\n",
    "$$\n",
    "\\begin{matrix}\n",
    "a & b \\\\\n",
    "c & d\n",
    "\\end{matrix}\n",
    "$$"
   ]
  },
  {
   "cell_type": "markdown",
   "metadata": {},
   "source": []
  }
 ],
 "metadata": {
  "language_info": {
   "name": "python"
  },
  "orig_nbformat": 4
 },
 "nbformat": 4,
 "nbformat_minor": 2
}
